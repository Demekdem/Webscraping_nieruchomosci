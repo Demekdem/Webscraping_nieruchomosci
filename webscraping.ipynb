{
 "cells": [
  {
   "cell_type": "markdown",
   "id": "b1259dbe-7fac-46d6-bb94-6e91bd7c609f",
   "metadata": {},
   "source": [
    "# 📊 Analiza danych nieruchomości\n",
    "Celem projektu jest zebranie danych ze strony Gratka.pl oraz ich analiza: tytuł, opis ceny, metraż. Zebrane dane będa z Wielkopolski."
   ]
  },
  {
   "cell_type": "markdown",
   "id": "49520765-7823-4462-9aa1-751e6ef57abe",
   "metadata": {},
   "source": [
    "1.Import bibliotek"
   ]
  },
  {
   "cell_type": "code",
   "execution_count": null,
   "id": "c0e688c7-b602-4248-bfd7-b560d0e319ec",
   "metadata": {},
   "outputs": [],
   "source": [
    "import requests\n",
    "from bs4 import BeautifulSoup\n",
    "import re\n",
    "import pandas as pd\n",
    "import time"
   ]
  },
  {
   "cell_type": "markdown",
   "id": "36cb7ff6-a987-4c3d-bdb4-10c48336d924",
   "metadata": {},
   "source": [
    " 2. Web scraping"
   ]
  },
  {
   "cell_type": "code",
   "execution_count": null,
   "id": "0cc9bbf9-bdea-4124-9ee9-692312fe9326",
   "metadata": {},
   "outputs": [],
   "source": [
    "dane = [] \n",
    "\n",
    "headers = {\n",
    "    'User-Agent': 'Mozilla/5.0 (Windows NT 10.0; Win64; x64) AppleWebKit/537.36 (KHTML, like Gecko) Chrome/124.0.0.0 Safari/537.36'\n",
    "}\n",
    "\n",
    "base_url = 'https://gratka.pl/nieruchomosci/mieszkania/wielkopolskie'\n",
    "start_url = f\"{base_url}?sort=relevance\"\n",
    "\n",
    "response = requests.get(start_url, headers=headers)\n",
    "soup = BeautifulSoup(response.text, 'html.parser')\n",
    "\n",
    "pagination_links = soup.select('a.pagination__item')\n",
    "page_numbers = [int(link.text.strip()) for link in pagination_links if link.text.strip().isdigit()]\n",
    "max_page = max(page_numbers) if page_numbers else 1\n",
    "\n",
    "for page in range(1, max_page + 1):\n",
    "    if page == 1:\n",
    "        url = start_url\n",
    "    else:\n",
    "        url = f'{base_url}?page={page}&sort=relevance'\n",
    "\n",
    "    print(f\"Pobieram stronę {page}/{max_page}: {url}\")\n",
    "    try:\n",
    "        response = requests.get(url, headers=headers)\n",
    "        soup = BeautifulSoup(response.text, 'html.parser')\n",
    "\n",
    "        #Tytuły\n",
    "        tytuly = [t.text for t in soup.find_all(class_=\"ehj8iw\")]\n",
    "        #Opisy\n",
    "        opisy = [\n",
    "            o.text.strip.split(\"Dodane\")[0].strip().replace(\"Zobacz opis\", \"\")\n",
    "            for o in soup.find_all(class_=\"ORSCPR\")\n",
    "        ]\n",
    "        #Ceny\n",
    "        ceny = []\n",
    "        for c in soup.find_all(class_=\"vQszq7\"):\n",
    "            tekst = c.text.replace(\" \", \"\")\n",
    "            match = re.match(r\"(\\d+)zł/m²(\\d+)zł\", tekst)\n",
    "            if match:\n",
    "                ceny.append(int(match.group(2)))\n",
    "        #Metraże\n",
    "        metraze = []\n",
    "        for m in soup.find_all(class_=\"oaZarI\"):\n",
    "            match = re.search(r\"(\\d+)\\s?m²\", m.text)\n",
    "            if match:\n",
    "                metraze.append(int(match.group(1)))\n",
    "\n",
    "        # Zgranie danych z mozliwioscia dodania pustych pol\n",
    "        max_len = max(len(tytuly), len(opisy), len(ceny), len(metraze))\n",
    "        for i in range(max_len):\n",
    "            dane.append({\n",
    "                'Tytuł': tytuly[i] if i < len(tytuly) else None,\n",
    "                'Opis': opisy[i] if i < len(opisy) else None,\n",
    "                'Cena': ceny[i] if i < len(ceny) else None,\n",
    "                'Metraż': metraze[i] if i < len(metraze) else None\n",
    "            })\n",
    "    except Exception as e:\n",
    "        print(f\"Bład na stronie {page}: {e}\")\n",
    "\n",
    "    # Opoznienie miedzy zapytania \n",
    "    time.sleep(1.5)\n",
    "\n",
    "df_gratka = pd.DataFrame(dane)\n",
    "df_gratka.to_csv('gratka_mieszkania.csv', index=False)"
   ]
  },
  {
   "cell_type": "markdown",
   "id": "4eb3d02b-668e-4443-9461-b8afbce3a29f",
   "metadata": {},
   "source": [
    " 3. Pobieranie zbioru danych z Kaggle (polskie nieruchomosci)"
   ]
  },
  {
   "cell_type": "code",
   "execution_count": null,
   "id": "616ecc8e-7e34-4af3-aa7f-92f3c8135c37",
   "metadata": {
    "scrolled": true
   },
   "outputs": [],
   "source": [
    "df_kaggle = pd.read_csv(\"data/polska_mieszkania.csv\", sep=';', skiprows=1)"
   ]
  },
  {
   "cell_type": "markdown",
   "id": "c73bb125-e9d3-41bd-8bf0-73cb4f709052",
   "metadata": {},
   "source": [
    "4. Przygotowanie danych "
   ]
  },
  {
   "cell_type": "code",
   "execution_count": null,
   "id": "1cb7eea7-409a-4efb-a915-4a577aec34bb",
   "metadata": {},
   "outputs": [],
   "source": [
    "df_kaggle = df_kaggle[['address', 'city', 'price', 'sq']]\n",
    "df_kaggle = df_kaggle.rename(columns={\n",
    "    'address': 'Tytuł',\n",
    "    'city': 'Opis',\n",
    "    'price': 'Cena',\n",
    "    'sq': 'Metraż'\n",
    "})\n",
    "\n",
    "# Usuwam duplikaty ofert\n",
    "df_gratka.drop_duplicate(subset=['Tytuł', 'Cena', 'Metraż'], keep=first, inplace=True)\n",
    "df_kaggle.drop_duplciate(subset=['Tytuł', 'Cena', 'Metraż'], keep=first, inplace=True)\n",
    "\n",
    "# Usuwam oferty, które nie maja podanej ceny lub metrażu\n",
    "df_gratka.dropna(subset=['Cena', 'Metraż'], how='any', inplace=True)\n",
    "df_kaggle.dropna(subset=['Cena', 'Metraż'], how='any', inplace=True)\n",
    "\n",
    "# Standaryzacja zmiennej - cena \n",
    "#print(df_gratka['Cena'].dtype)\n",
    "#print(df_kaggle['Cena'].dtype)\n",
    "df_gratka['Cena'] = df_gratka['Cena'].round(0).astype('Int64')\n",
    "df_kaggle['Cena'] = df_kaggle['Cena'].round(0).astype('Int64')\n",
    "\n",
    "# Standaryzacja zmiennej - metraż\n",
    "#print(df_gratka['Metraż'].dtype)       - int64\n",
    "#print(df_kaggle['Metraż'].dtype)       - float64\n",
    "df_gratka['Metraż'] = df_gratka['Metraż'].round(2).astype('Float64')\n",
    "\n",
    "# Oczyszanie zmiennych tytul i opis z zbednych znaków \n",
    "def oczyszczony_tekst(tekst):\n",
    "    tekst = re.sub(r'<[^>]+>', '', tekst)\n",
    "    tekst = re.sub(r'[^\\w\\sąćęłńóśżźĄĆĘŁŃÓŚŻŹ]', '', tekst)\n",
    "    tekst = re.sub(r'\\s+', '', tekst)\n",
    "    return tekst.strip()\n",
    "\n",
    "df_gratka['Tytuł'] = df_gratka['Tytuł'].astype(str).apply(oczyszczony_tekst)\n",
    "df_gratka['Opis'] = df_gratka['Opis'].astype(str).apply(oczyszczony_tekst)\n",
    "\n",
    "df_kaggle['Tytuł'] = df_kaggle['Tytuł'].astype(str).apply(oczyszczony_teskt)\n",
    "df_kaggle['Opis'] = df_kaggle['Opis'].astype(str).apply(oczyszczony_tekst)\n",
    "\n",
    "# Zidentikuje i usune podejrzane oferty \n",
    "min_price = 100000\n",
    "max_price = 10000000\n",
    "min_sq = 10\n",
    "max_sq = 200\n",
    "\n",
    "df_gratka = df_gratka[\n",
    "    (df_gratka['Cena'] >= min_price) &\n",
    "    (df_gratka['Cena'] <= max_price) &\n",
    "    (df_gratka['Metraż'] >= min_sq) &\n",
    "    (df_gratka['Metraż'] <= max_sq)\n",
    "]\n",
    "\n",
    "df_kaggle = df_kaggle[\n",
    "    df_kaggle['Cena'] >= min_price &\n",
    "    df_kaggle['Cena'] <= max_price &\n",
    "    df_kaggle['Metraż'] >= min_sq &\n",
    "    df_kaggle['Metraż'] <= max_sq\n",
    "]\n"
   ]
  },
  {
   "cell_type": "markdown",
   "id": "55926d27-e905-430d-99a0-e63f174ead69",
   "metadata": {},
   "source": [
    "5. Zapisanie danych do CSV"
   ]
  },
  {
   "cell_type": "code",
   "execution_count": null,
   "id": "f1d40581-6d29-44d4-8881-885b2d9b1ed5",
   "metadata": {},
   "outputs": [],
   "source": [
    "df_gratka.to_csv(\"gotowe_nieruchomosci.csv\", index=False)\n",
    "df_kaggle.to_csv(\"gotowe_kaggle.csv\", index=False)"
   ]
  }
 ],
 "metadata": {
  "kernelspec": {
   "display_name": "Python 3 (ipykernel)",
   "language": "python",
   "name": "python3"
  },
  "language_info": {
   "codemirror_mode": {
    "name": "ipython",
    "version": 3
   },
   "file_extension": ".py",
   "mimetype": "text/x-python",
   "name": "python",
   "nbconvert_exporter": "python",
   "pygments_lexer": "ipython3",
   "version": "3.12.3"
  }
 },
 "nbformat": 4,
 "nbformat_minor": 5
}
